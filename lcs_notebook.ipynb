{
 "cells": [
  {
   "cell_type": "code",
   "execution_count": 252,
   "metadata": {},
   "outputs": [],
   "source": [
    "import spacy\n",
    "import pandas as pd\n",
    "import warnings\n",
    "import os\n",
    "warnings.filterwarnings('ignore')"
   ]
  },
  {
   "cell_type": "code",
   "execution_count": 269,
   "metadata": {},
   "outputs": [],
   "source": [
    "nlp = spacy.load(\"ur_model\") # Make sure to Download and Install model from https://github.com/mirfan899/Urdu"
   ]
  },
  {
   "cell_type": "code",
   "execution_count": 270,
   "metadata": {},
   "outputs": [],
   "source": [
    "def lcs(X, Y, m, n):\n",
    "    \n",
    "    if m == 0 or n == 0: \n",
    "       return 0; \n",
    "    elif X[m-1].similarity(Y[n-1]) == 1: \n",
    "       return 1 + lcs(X, Y, m-1, n-1); \n",
    "    else: \n",
    "       return max(lcs(X, Y, m, n-1), lcs(X, Y, m-1, n)); "
   ]
  },
  {
   "cell_type": "code",
   "execution_count": 280,
   "metadata": {},
   "outputs": [
    {
     "name": "stdout",
     "output_type": "stream",
     "text": [
      "میں کھیلتا ہوں\n",
      "میں کام کرتا ہوں\n",
      "میں کھیلتا اور کام کرتا ہوں\n",
      "میں ٹھیک ہوں آپکا شکریہ جناب\n",
      "میں ایک طالب علم ہوں جو کھیلتا ہے\n"
     ]
    }
   ],
   "source": [
    "text = open(\"data.txt\", encoding=\"utf8\").read()\n",
    "print(text)"
   ]
  },
  {
   "cell_type": "code",
   "execution_count": 281,
   "metadata": {},
   "outputs": [],
   "source": [
    "sentences = text.split(\"\\n\") "
   ]
  },
  {
   "cell_type": "code",
   "execution_count": 282,
   "metadata": {},
   "outputs": [],
   "source": [
    "dict = {}\n",
    "for i in range (0, len(sentences)):\n",
    "    dict[i] = nlp (sentences[i])\n",
    "    i += 1"
   ]
  },
  {
   "cell_type": "code",
   "execution_count": 289,
   "metadata": {},
   "outputs": [],
   "source": [
    "arr2D = [[0 for col in range(len(sentences))] for row in range(len(sentences))]\n",
    "for row in range (0, len(sentences)):\n",
    "    for column in range (0, len(sentences)):\n",
    "        #print (\"LCS b/w sen\", row+1, \"&\", column+1, \"=\" , lcs(dict[row], dict[column], len(dict[row]), len(dict[column]))) \n",
    "        arr2D[row][column]= lcs(dict[row], dict[column], len(dict[row]), len(dict[column]))"
   ]
  },
  {
   "cell_type": "code",
   "execution_count": 290,
   "metadata": {
    "scrolled": true
   },
   "outputs": [
    {
     "name": "stdout",
     "output_type": "stream",
     "text": [
      "The Longest Common Subsequences between sentences (ZERO INDEXED) are: \n",
      "\n",
      "   0  1  2  3  4\n",
      "0  3  2  3  2  2\n",
      "1  2  4  4  2  2\n",
      "2  3  4  6  2  2\n",
      "3  2  2  2  6  2\n",
      "4  2  2  2  2  8\n"
     ]
    }
   ],
   "source": [
    "df = pd.DataFrame.from_records(arr2D)\n",
    "print(\"The Longest Common Subsequences between sentences (ZERO INDEXED) are:\" , \"\\n\")\n",
    "print(df)"
   ]
  },
  {
   "cell_type": "code",
   "execution_count": null,
   "metadata": {},
   "outputs": [],
   "source": []
  }
 ],
 "metadata": {
  "kernelspec": {
   "display_name": "Python 3",
   "language": "python",
   "name": "python3"
  },
  "language_info": {
   "codemirror_mode": {
    "name": "ipython",
    "version": 3
   },
   "file_extension": ".py",
   "mimetype": "text/x-python",
   "name": "python",
   "nbconvert_exporter": "python",
   "pygments_lexer": "ipython3",
   "version": "3.7.7"
  }
 },
 "nbformat": 4,
 "nbformat_minor": 4
}
